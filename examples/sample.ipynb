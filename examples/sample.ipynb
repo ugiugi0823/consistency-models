{
  "cells": [
    {
      "cell_type": "markdown",
      "metadata": {
        "id": "view-in-github",
        "colab_type": "text"
      },
      "source": [
        "<a href=\"https://colab.research.google.com/github/junhsss/consistency-models/blob/main/examples/sample.ipynb\" target=\"_parent\"><img src=\"https://colab.research.google.com/assets/colab-badge.svg\" alt=\"Open In Colab\"/></a>"
      ]
    },
    {
      "cell_type": "markdown",
      "source": [
        "# **Sample from Consistency Models 🌃**\n",
        "\n",
        "**Consistency Models** are a new family of generative models that achieve high sample quality without adversarial training. They support *fast one-step generation* by design, while still allowing for few-step sampling to trade compute for sample quality."
      ],
      "metadata": {
        "id": "ch98dgRpewhH"
      }
    },
    {
      "cell_type": "code",
      "source": [
        "%%capture\n",
        "!pip install diffusers"
      ],
      "metadata": {
        "id": "yo7qWASqe-Da"
      },
      "execution_count": null,
      "outputs": []
    },
    {
      "cell_type": "markdown",
      "source": [
        "### Sampling\n",
        "\n",
        "This example shows how to sample from pre-trained **consistency models**. \n",
        "\n",
        "If you're interesetd in training **consistency models**, you may want to check out [`consistency`](https://github.com/junhsss/consistency-models) package.\n",
        "\n",
        "Once trained, you can use it with `diffusers` without depending on `consistency`, using custom pipeline [`consistency/pipeline`](https://huggingface.co/consistency/pipeline)."
      ],
      "metadata": {
        "id": "ZrnSYCwOfYRy"
      }
    },
    {
      "cell_type": "code",
      "source": [
        "from diffusers import DiffusionPipeline\n",
        "\n",
        "pipeline = DiffusionPipeline.from_pretrained(\n",
        "    \"consistency/cifar10-32-demo\",\n",
        "    custom_pipeline=\"consistency/pipeline\",\n",
        ")\n",
        "\n",
        "pipeline().images[0]  # Super Fast Generation! 🤯"
      ],
      "metadata": {
        "id": "uHOzmtKTfGeh"
      },
      "execution_count": null,
      "outputs": []
    }
  ],
  "metadata": {
    "colab": {
      "name": "scratchpad",
      "provenance": [],
      "include_colab_link": true
    },
    "kernelspec": {
      "display_name": "Python 3",
      "name": "python3"
    }
  },
  "nbformat": 4,
  "nbformat_minor": 0
}